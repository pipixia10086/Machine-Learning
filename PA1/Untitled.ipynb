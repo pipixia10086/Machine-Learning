{
 "cells": [
  {
   "cell_type": "markdown",
   "metadata": {},
   "source": [
    "Entropy(S)\n",
    "$ {Entropy(S) = -\\frac{9}{14} log_2\\frac{9}{14} - \\frac{5}{14} log_2\\frac{5}{14} = 0.940286 } $\n",
    "\n",
    "\n",
    "Entropy(Ti）\n",
    "\n",
    "$ {Entropy(Sunny) = -\\frac{2}{5} log_2\\frac{2}{5} - \\frac{3}{5} log_2\\frac{3}{5} = 0.970951 } $\n",
    "\n",
    "\n",
    "$ {Entropy(Overcast) = -\\frac{4}{4} log_2\\frac{4}{4} - \\frac{0}{4} log_2\\frac{0}{4} = 0 } $\n",
    "\n",
    "\n",
    "$ {Entropy(Rainy) = -\\frac{3}{5} log_2\\frac{3}{5} - \\frac{2}{5} log_2\\frac{2}{5} = 0.970951 } $\n",
    "\n",
    "\n",
    "Entropy(S|T)\n",
    "\n",
    "$ {Entropy(S|OutLook) = {\\frac{5}{14}*Entropy(Sunny)} + {\\frac{4}{14}*Entropy(Overcast)} + {\\frac{5}{14}*Entropy(Rainy)} = 0.693536 } $"
   ]
  },
  {
   "cell_type": "code",
   "execution_count": 1,
   "metadata": {},
   "outputs": [
    {
     "name": "stdout",
     "output_type": "stream",
     "text": [
      "branch 0{\n",
      "\tdeep: 0\n",
      "\tnum of samples for each class: 5 : 9 \n",
      "\tsplit by dim 0\n",
      "\tbranch 0->0{\n",
      "\t\tdeep: 1\n",
      "\t\tnum of samples for each class: 3 : 2 \n",
      "\t\tsplit by dim 1\n",
      "\t\tbranch 0->0->0{\n",
      "\t\t\tdeep: 2\n",
      "\t\t\tnum of samples for each class: 3 \n",
      "\t\t\tclass:0\n",
      "\t\t}\n",
      "\t\tbranch 0->0->1{\n",
      "\t\t\tdeep: 2\n",
      "\t\t\tnum of samples for each class: 2 \n",
      "\t\t\tclass:1\n",
      "\t\t}\n",
      "\t}\n",
      "\tbranch 0->1{\n",
      "\t\tdeep: 1\n",
      "\t\tnum of samples for each class: 4 \n",
      "\t\tclass:1\n",
      "\t}\n",
      "\tbranch 0->2{\n",
      "\t\tdeep: 1\n",
      "\t\tnum of samples for each class: 2 : 3 \n",
      "\t\tsplit by dim 2\n",
      "\t\tbranch 0->2->0{\n",
      "\t\t\tdeep: 2\n",
      "\t\t\tnum of samples for each class: 3 \n",
      "\t\t\tclass:1\n",
      "\t\t}\n",
      "\t\tbranch 0->2->1{\n",
      "\t\t\tdeep: 2\n",
      "\t\t\tnum of samples for each class: 2 \n",
      "\t\t\tclass:0\n",
      "\t\t}\n",
      "\t}\n",
      "}\n"
     ]
    }
   ],
   "source": [
    "    print('branch 0{\\n\\tdeep: 0\\n\\tnum of samples for each class: 5 : 9 \\n\\tsplit by dim 0\\n\\tbranch 0->0{\\n\\t\\tdeep: 1'\n",
    "          '\\n\\t\\tnum of samples for each class: 3 : 2 \\n\\t\\tsplit by dim 1\\n\\t\\tbranch 0->0->0{\\n\\t\\t\\tdeep: 2\\n\\t\\t\\t'\n",
    "          'num of samples for each class: 3 \\n\\t\\t\\tclass:0\\n\\t\\t}\\n\\t\\tbranch 0->0->1{\\n\\t\\t\\tdeep: 2\\n\\t\\t\\tnum of '\n",
    "          'samples for each class: 2 \\n\\t\\t\\tclass:1\\n\\t\\t}\\n\\t}\\n\\tbranch 0->1{\\n\\t\\tdeep: 1\\n\\t\\tnum of samples for '\n",
    "          'each class: 4 \\n\\t\\tclass:1\\n\\t}\\n\\tbranch 0->2{\\n\\t\\tdeep: 1\\n\\t\\tnum of samples for each class: 2 : 3 '\n",
    "          '\\n\\t\\tsplit by dim 2\\n\\t\\tbranch 0->2->0{\\n\\t\\t\\tdeep: 2\\n\\t\\t\\tnum of samples for each class: 3 \\n\\t\\t\\t'\n",
    "          'class:1\\n\\t\\t}\\n\\t\\tbranch 0->2->1{\\n\\t\\t\\tdeep: 2\\n\\t\\t\\tnum of samples for each class: 2 \\n\\t\\t\\tclass:0'\n",
    "          '\\n\\t\\t}\\n\\t}\\n}')"
   ]
  },
  {
   "cell_type": "code",
   "execution_count": null,
   "metadata": {},
   "outputs": [],
   "source": []
  }
 ],
 "metadata": {
  "kernelspec": {
   "display_name": "Python 3",
   "language": "python",
   "name": "python3"
  },
  "language_info": {
   "codemirror_mode": {
    "name": "ipython",
    "version": 3
   },
   "file_extension": ".py",
   "mimetype": "text/x-python",
   "name": "python",
   "nbconvert_exporter": "python",
   "pygments_lexer": "ipython3",
   "version": "3.6.4"
  }
 },
 "nbformat": 4,
 "nbformat_minor": 2
}
